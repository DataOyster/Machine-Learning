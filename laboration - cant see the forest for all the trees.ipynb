{
 "cells": [
  {
   "cell_type": "markdown",
   "metadata": {},
   "source": [
    "\n",
    "### CAN'T SEE THE FOREST, FOR ALL THE TREES\n",
    "\n",
    "**Laboration**\n",
    "\n",
    "Syftet med den här laborationen är att lära oss hur vi på ett korrekt sätt kan tune:a hyperparameters samt träna och jämföra prestanda mellan många olika modeller - för ett verklighetstroget problem.\n",
    "\n",
    "Vi kommer framförallt jobba med trädbaserade modeller - Decision Tree och Random Forest.\n",
    "\n",
    "Datasetet som vi kommer jobba med och information om denne hittar ni [här](https://archive.ics.uci.edu/dataset/320/student+performance). Ni ska jobba med filen som heter 'student-por.csv'.\n",
    "\n",
    "**Instruktioner**\n",
    "\n",
    "Utför varje uppgift så att jag kan köra er notebook rakt-av, uppifrån och ner! Varje uppgift ska lösas på angiven plats.\n",
    "\n",
    "**Inlämning**\n",
    "\n",
    "Skicka in hela din notebook på ITHS-portalen, efter att du döpt om den till *laboration_forest_förnamn_efternamn.ipynb*."
   ]
  },
  {
   "cell_type": "markdown",
   "metadata": {},
   "source": [
    "**Uppgift 0**"
   ]
  },
  {
   "cell_type": "code",
   "execution_count": 1,
   "metadata": {},
   "outputs": [],
   "source": [
    "# importera samtliga nödvändiga paket här.\n",
    "# efterhand kanske du inser att du behöver importera fler paket, lägg då över importerna hit istället\n",
    "\n",
    "import matplotlib.pyplot as plt\n",
    "\n",
    "from sklearn.ensemble import RandomForestRegressor\n",
    "from sklearn.model_selection import GridSearchCV\n",
    "\n",
    "from sklearn.model_selection import train_test_split  \n",
    "from sklearn.metrics import make_scorer, mean_absolute_error"
   ]
  },
  {
   "cell_type": "markdown",
   "metadata": {},
   "source": [
    "**Uppgift 1**\n",
    "\n",
    "Läs på om datasetet. Ladda därefter ner den och läs in den till en pandas dataframe. \n",
    "\n",
    "Obs: du bör troligtvis behöva *delimiter=';'* som argument till pd.read_csv funktionen."
   ]
  },
  {
   "cell_type": "code",
   "execution_count": null,
   "metadata": {},
   "outputs": [],
   "source": [
    "# lös uppgift 1 här"
   ]
  },
  {
   "cell_type": "markdown",
   "metadata": {},
   "source": [
    "**Uppgift 2**\n",
    "\n",
    "Utför en ordentlig EDA (Exploratory Data Analysis). Rita upp relevanta plottar och kommentera på det du känner är befogat."
   ]
  },
  {
   "cell_type": "code",
   "execution_count": null,
   "metadata": {},
   "outputs": [],
   "source": [
    "# lös uppgift 2 här"
   ]
  },
  {
   "cell_type": "markdown",
   "metadata": {},
   "source": [
    "**Uppgift 3**\n",
    "\n",
    "Gör en första hypotes på vilka features du tror är relevanta. \n",
    "\n",
    "Tvätta sedan datan och utför även den feature engineering du anser är lämplig. \n",
    "\n",
    "Kom ihåg att du även behöver hantera kategoriska kolumner. \n",
    "\n",
    "Motivera samtliga beslut och åtgärder med kommentarer."
   ]
  },
  {
   "cell_type": "code",
   "execution_count": null,
   "metadata": {},
   "outputs": [],
   "source": [
    "# lös uppgift 3 här"
   ]
  },
  {
   "cell_type": "markdown",
   "metadata": {},
   "source": [
    "**Uppgift 4**\n",
    "\n",
    "Särkilj nu på features och target. Vår target är kolumnen G3.\n",
    "\n",
    "Lägg alla features i variabeln X och din target i variabel y.\n",
    "\n",
    "Obs! Du får inte använda kolumnerna G1 eller G2 som features, det är nästintill fuskig (varför?). Säkerställ att de **inte** är med i dina features.\n",
    "\n",
    "Spara även namnen på kolumnerna du använder som features i en variabel som du kallar feature_column_names"
   ]
  },
  {
   "cell_type": "code",
   "execution_count": null,
   "metadata": {},
   "outputs": [],
   "source": [
    "# lös uppgift 4 här"
   ]
  },
  {
   "cell_type": "markdown",
   "metadata": {},
   "source": [
    "**Uppgift 5**\n",
    "\n",
    "Utför en helt vanlig train/test split. Sätt test size till 20%. Träna sedan en RandomForestRegressor på din träningsdata.\n",
    "\n",
    "Använd random_state = 42 i både train/test split samt som argument till din modell."
   ]
  },
  {
   "cell_type": "code",
   "execution_count": null,
   "metadata": {},
   "outputs": [],
   "source": [
    "# lös uppgift 5 här\n",
    "\n",
    "\n",
    "model = \n",
    "model.fit()"
   ]
  },
  {
   "cell_type": "markdown",
   "metadata": {},
   "source": [
    "Kör nu koden nedan för att hur relativt viktig varje kolumn var för vår träning! Ett högre värde = viktigare kolumn.\n",
    "\n",
    "Hur tolkar du det du ser? Does it make sense?"
   ]
  },
  {
   "cell_type": "code",
   "execution_count": null,
   "metadata": {},
   "outputs": [],
   "source": [
    "plt.bar(feature_column_names, model.feature_importances_);\n",
    "plt.xticks(rotation=45);\n",
    "plt.show()"
   ]
  },
  {
   "cell_type": "markdown",
   "metadata": {},
   "source": [
    "**Uppgift 6**\n",
    "\n",
    "Bra. Nu drar vi igång på riktigt.\n",
    "\n",
    "Kör nu koden nedan för att utföra en GridSearch (med cross-validation) över alla kombinationer av de angivna hyperparameters.\n",
    "\n",
    "Observera att vi använder hela datasetet X och y här, inte dina splits ovan. GridSearchCV skapar automatiskt splits åt oss.\n",
    "\n",
    "Dokumentationen för GridSearchCV hittar du [här](https://scikit-learn.org/stable/modules/generated/sklearn.model_selection.GridSearchCV.html)."
   ]
  },
  {
   "cell_type": "code",
   "execution_count": null,
   "metadata": {},
   "outputs": [],
   "source": [
    "# Skapa en parametergrid att söka bland\n",
    "\n",
    "param_grid = {\n",
    "    'max_depth': [2, 4, 6],\n",
    "    'n_estimators': [2, 4, 6, 8, 10]\n",
    "}\n",
    "\n",
    "# Initiera en basmodell\n",
    "rf = RandomForestRegressor()\n",
    "\n",
    "# Defiiniera metric att räkna performance\n",
    "score = make_scorer(mean_absolute_error)\n",
    "\n",
    "# Definiera GridSearch-objektet\n",
    "grid_search = GridSearchCV(estimator = rf,                # ange basmodell\n",
    "                           param_grid = param_grid, \n",
    "                           cv = 3,                        # 3-fold cross-validation\n",
    "                           n_jobs = -1,                   # använd alla möjliga processer för snabbare träning\n",
    "                           verbose = 2,                   # läs i dokumentationen vad detta innebär\n",
    "                           scoring=score) \n",
    "\n",
    "# Utför grid search över alla möjliga kombinationer av dina hyperparameters\n",
    "grid_search.fit(X, y)"
   ]
  },
  {
   "cell_type": "markdown",
   "metadata": {},
   "source": [
    "**Uppgift 7**\n",
    "\n",
    "Kör koden nedan för att utforska vilken information som nu sparats från din GridSearch"
   ]
  },
  {
   "cell_type": "code",
   "execution_count": null,
   "metadata": {},
   "outputs": [],
   "source": [
    "cv_results = grid_search.cv_results_\n",
    "\n",
    "cv_results.keys()"
   ]
  },
  {
   "cell_type": "markdown",
   "metadata": {},
   "source": [
    "**Uppgift 8**\n",
    "\n",
    "Vilken kombination av hyperparameters gav upphov till bäst/sämst performance?\n",
    "\n",
    "Vilken är den bästa/sämsta scoren?"
   ]
  },
  {
   "cell_type": "code",
   "execution_count": null,
   "metadata": {},
   "outputs": [],
   "source": [
    "# lös uppgift 8 här"
   ]
  },
  {
   "cell_type": "markdown",
   "metadata": {},
   "source": [
    "**Uppgift 9**"
   ]
  },
  {
   "cell_type": "markdown",
   "metadata": {},
   "source": [
    "Är den bästa scoren \"bra\" i vårt sammanhang? Varför? Motivera.\n",
    "\n",
    "*tips:* utför en ordentlig error analysis."
   ]
  },
  {
   "cell_type": "code",
   "execution_count": null,
   "metadata": {},
   "outputs": [],
   "source": [
    "# lös uppgift 9 här"
   ]
  },
  {
   "cell_type": "markdown",
   "metadata": {},
   "source": [
    "**Uppgift 10**"
   ]
  },
  {
   "cell_type": "markdown",
   "metadata": {},
   "source": [
    "Testa nu att träna med dina egenvalda hyperparameters! \n",
    "\n",
    "Du kan lägga till fler värden för max_depth och n_estimators, men du kan också välja fler hyperparameters att tune:a.\n",
    "\n",
    "Random Forest har många fler hyperparameters, kolla in den officiella dokumentationen [här](https://scikit-learn.org/stable/modules/generated/sklearn.ensemble.RandomForestRegressor.html).\n",
    "\n",
    "Lägg till minst 4 fler hyperparameters, utöver max_depth och n_estimators, och välj vilka värden på dessa du vill testa. \n",
    "\n",
    "Kör igenom en till GridSearch över dessa. Får du bättre resultat än innan?\n",
    "\n",
    "**Tips**: För din egen skull, försök även första vad de olika hyperparameters du väljer faktiskt kontrollerar."
   ]
  },
  {
   "cell_type": "code",
   "execution_count": null,
   "metadata": {},
   "outputs": [],
   "source": [
    "# lös uppgift 10 här"
   ]
  },
  {
   "cell_type": "markdown",
   "metadata": {},
   "source": [
    "**Uppgift 11**\n",
    "\n",
    "Kör nu även en GridSearch på en enstaka Decision Tree (inte Random Forest) där du testar olika värden på max_depth.\n",
    "\n",
    "Hur förhåller sig resultatet här mot det vi fick med Random Forest?\n",
    "\n",
    "Kolla gärna dokumentationen för Decision Tree [här](https://scikit-learn.org/stable/modules/generated/sklearn.tree.DecisionTreeRegressor.html), och se om du kan leka med fler hyperparameters än enbart max_depth."
   ]
  },
  {
   "cell_type": "code",
   "execution_count": null,
   "metadata": {},
   "outputs": [],
   "source": [
    "# lös uppgift 11 här"
   ]
  },
  {
   "cell_type": "markdown",
   "metadata": {},
   "source": [
    "**Uppgift 12**\n",
    "\n",
    "\n",
    "Vi har nu haft ett fixerat dataset och testa massa olika hyperparameters på framförallt Random Forest. \n",
    "\n",
    "Men, nu ska vi även börja fiffla med att testa olika features också! \n",
    "\n",
    "Kom ihåg - för varje kombination av features får vi GridSearcha om och hitta de hyperparameters som presterar bäst.\n",
    "\n",
    "Testa nu annorlunda input features och kör en GridSearch över hyperparametrar för Random Forest, och försök hitta den kombination av hyperparameters för Random Forest som presterar bäst på dessa. "
   ]
  },
  {
   "cell_type": "code",
   "execution_count": null,
   "metadata": {},
   "outputs": [],
   "source": [
    "# lös uppgift 12 här"
   ]
  },
  {
   "cell_type": "markdown",
   "metadata": {},
   "source": [
    "**Uppgift 13**\n",
    "\n",
    "Kan du hitta en minsta mängd features som räcker för att få hög prestanda? Dvs, hur många & vilka features kan du drop:a utan någon vidare prestandaförlust?"
   ]
  },
  {
   "cell_type": "code",
   "execution_count": null,
   "metadata": {},
   "outputs": [],
   "source": [
    "# lös uppgift 13 här"
   ]
  },
  {
   "cell_type": "markdown",
   "metadata": {},
   "source": []
  }
 ],
 "metadata": {
  "kernelspec": {
   "display_name": "machinelearning",
   "language": "python",
   "name": "python3"
  },
  "language_info": {
   "codemirror_mode": {
    "name": "ipython",
    "version": 3
   },
   "file_extension": ".py",
   "mimetype": "text/x-python",
   "name": "python",
   "nbconvert_exporter": "python",
   "pygments_lexer": "ipython3",
   "version": "3.11.7"
  }
 },
 "nbformat": 4,
 "nbformat_minor": 2
}
